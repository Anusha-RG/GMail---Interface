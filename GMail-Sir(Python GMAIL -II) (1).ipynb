{
 "cells": [
  {
   "cell_type": "code",
   "execution_count": 39,
   "metadata": {},
   "outputs": [],
   "source": [
    "username = ['godisgreat','anusha','geetharavi.234']\n",
    "password = ['Gig12rama','Aanusharavi56','Gnirmala74']\n",
    "phone_no = ['1234567890','2345678901','3456789012']\n",
    "gender   = ['male','female','female']\n",
    "fname    = ['Ravi','Anusha','Geetha']\n",
    "lname    = ['chandran','ravi','kuppusamy']\n",
    "dob      = ['12-05-1984','25-06-2018','15-08-1947']"
   ]
  },
  {
   "cell_type": "code",
   "execution_count": 40,
   "metadata": {},
   "outputs": [],
   "source": [
    "sample_data = {'username':username,'password':password,'phone_no':phone_no,'gender':gender,'fname':fname,'lname':lname,'dob':dob}"
   ]
  },
  {
   "cell_type": "code",
   "execution_count": 41,
   "metadata": {},
   "outputs": [
    {
     "data": {
      "text/plain": [
       "dict_keys(['username', 'password', 'phone_no', 'gender', 'fname', 'lname', 'dob'])"
      ]
     },
     "execution_count": 41,
     "metadata": {},
     "output_type": "execute_result"
    }
   ],
   "source": [
    "sample_data.keys()"
   ]
  },
  {
   "cell_type": "code",
   "execution_count": 42,
   "metadata": {},
   "outputs": [
    {
     "data": {
      "text/plain": [
       "['godisgreat', 'anusha', 'geetharavi.234']"
      ]
     },
     "execution_count": 42,
     "metadata": {},
     "output_type": "execute_result"
    }
   ],
   "source": [
    "sample_data['username']"
   ]
  },
  {
   "cell_type": "code",
   "execution_count": 43,
   "metadata": {},
   "outputs": [],
   "source": [
    "import pandas as pd\n",
    "df=pd.DataFrame(sample_data)"
   ]
  },
  {
   "cell_type": "code",
   "execution_count": 6,
   "metadata": {},
   "outputs": [
    {
     "data": {
      "text/html": [
       "<div>\n",
       "<style scoped>\n",
       "    .dataframe tbody tr th:only-of-type {\n",
       "        vertical-align: middle;\n",
       "    }\n",
       "\n",
       "    .dataframe tbody tr th {\n",
       "        vertical-align: top;\n",
       "    }\n",
       "\n",
       "    .dataframe thead th {\n",
       "        text-align: right;\n",
       "    }\n",
       "</style>\n",
       "<table border=\"1\" class=\"dataframe\">\n",
       "  <thead>\n",
       "    <tr style=\"text-align: right;\">\n",
       "      <th></th>\n",
       "      <th>username</th>\n",
       "      <th>password</th>\n",
       "      <th>phone_no</th>\n",
       "      <th>gender</th>\n",
       "      <th>fname</th>\n",
       "      <th>lname</th>\n",
       "      <th>dob</th>\n",
       "    </tr>\n",
       "  </thead>\n",
       "  <tbody>\n",
       "    <tr>\n",
       "      <th>0</th>\n",
       "      <td>godisgreat</td>\n",
       "      <td>Gig12rama</td>\n",
       "      <td>1234567890</td>\n",
       "      <td>male</td>\n",
       "      <td>Ravi</td>\n",
       "      <td>chandran</td>\n",
       "      <td>12-05-1984</td>\n",
       "    </tr>\n",
       "    <tr>\n",
       "      <th>1</th>\n",
       "      <td>anusha</td>\n",
       "      <td>Aanusharavi56</td>\n",
       "      <td>2345678901</td>\n",
       "      <td>female</td>\n",
       "      <td>Anusha</td>\n",
       "      <td>ravi</td>\n",
       "      <td>25-06-2018</td>\n",
       "    </tr>\n",
       "    <tr>\n",
       "      <th>2</th>\n",
       "      <td>geetharavi.234</td>\n",
       "      <td>Gnirmala74</td>\n",
       "      <td>3456789012</td>\n",
       "      <td>female</td>\n",
       "      <td>Geetha</td>\n",
       "      <td>kuppusamy</td>\n",
       "      <td>15-08-1947</td>\n",
       "    </tr>\n",
       "  </tbody>\n",
       "</table>\n",
       "</div>"
      ],
      "text/plain": [
       "         username       password    phone_no  gender   fname      lname  \\\n",
       "0      godisgreat      Gig12rama  1234567890    male    Ravi   chandran   \n",
       "1          anusha  Aanusharavi56  2345678901  female  Anusha       ravi   \n",
       "2  geetharavi.234     Gnirmala74  3456789012  female  Geetha  kuppusamy   \n",
       "\n",
       "          dob  \n",
       "0  12-05-1984  \n",
       "1  25-06-2018  \n",
       "2  15-08-1947  "
      ]
     },
     "execution_count": 6,
     "metadata": {},
     "output_type": "execute_result"
    }
   ],
   "source": [
    "df"
   ]
  },
  {
   "cell_type": "code",
   "execution_count": 7,
   "metadata": {},
   "outputs": [
    {
     "data": {
      "text/plain": [
       "<matplotlib.axes._subplots.AxesSubplot at 0x2405ec26c48>"
      ]
     },
     "execution_count": 7,
     "metadata": {},
     "output_type": "execute_result"
    },
    {
     "data": {
      "image/png": "[encoded data removed]",
      "text/plain": [
       "<Figure size 432x288 with 1 Axes>"
      ]
     },
     "metadata": {
      "needs_background": "light"
     },
     "output_type": "display_data"
    }
   ],
   "source": [
    "import seaborn as sns\n",
    "sns.countplot(x='gender',data=df)"
   ]
  },
  {
   "cell_type": "code",
   "execution_count": 10,
   "metadata": {},
   "outputs": [],
   "source": [
    "firstname = []\n",
    "lastname=[]\n",
    "def flname():\n",
    "    first_name = input('Enter First name: ')\n",
    "    while True:\n",
    "        if first_name == ' ':\n",
    "            break\n",
    "        else:\n",
    "            last_name = input('Enter last name: ')\n",
    "            firstname.append(first_name)\n",
    "            lastname.append(last_name)\n",
    "            if last_name != ' ':\n",
    "                break"
   ]
  },
  {
   "cell_type": "code",
   "execution_count": 22,
   "metadata": {},
   "outputs": [],
   "source": [
    "user = []\n",
    "pas = []\n",
    "def user_pass():\n",
    "    raw_user_name = input(\"Enter email: \").split('@gmail.com')\n",
    "    if raw_user_name[0] in username:\n",
    "        print('username already exists. ')\n",
    "    else:\n",
    "        Password = input('Enter Password: ')\n",
    "        if len(Password) > 8:\n",
    "            if Password.isalnum() != True:\n",
    "                print('Enter uppercase, lowercase and use atleast 1 number')\n",
    "            else:\n",
    "                user.append(raw_user_name[0])\n",
    "                pas.append(Password)\n",
    "        else:\n",
    "            print('use atleast 8 characters.')\n",
    "        "
   ]
  },
  {
   "cell_type": "code",
   "execution_count": 23,
   "metadata": {},
   "outputs": [
    {
     "name": "stdout",
     "output_type": "stream",
     "text": [
      "Enter email: raghuveera@gmail.com\n",
      "Enter Password: rama23456gh\n"
     ]
    }
   ],
   "source": [
    "user_pass()"
   ]
  },
  {
   "cell_type": "code",
   "execution_count": 24,
   "metadata": {},
   "outputs": [],
   "source": [
    "Date = []\n",
    "def dgp():\n",
    "    import datetime, random\n",
    "    m = ['Jan','Feb','Mar','Apr','May','Jun','Jul','Aug','Sep','Oct','Nov','Dec']\n",
    "    day = int(input('Enter birth date : '))\n",
    "    if day >31:\n",
    "        print('Invalid Date.')\n",
    "    else:\n",
    "        month = input('Enter birth month: ').capitalize()\n",
    "        if month in m:\n",
    "            year = int(input('Enter birth year: '))\n",
    "            if year >=2020:\n",
    "                print('Invalid Year.')\n",
    "            else:\n",
    "                DOB = str(day)+'-'+str(month)+'-'+str(year)\n",
    "                Date.append(DOB)\n",
    "        else:\n",
    "            print('Invalid Month.')"
   ]
  },
  {
   "cell_type": "code",
   "execution_count": 25,
   "metadata": {},
   "outputs": [
    {
     "name": "stdout",
     "output_type": "stream",
     "text": [
      "Enter birth date : 21\n",
      "Enter birth month: Feb\n",
      "Enter birth year: 2005\n"
     ]
    }
   ],
   "source": [
    "dgp()"
   ]
  },
  {
   "cell_type": "code",
   "execution_count": 32,
   "metadata": {},
   "outputs": [],
   "source": [
    "phonenum = []\n",
    "def mobile():\n",
    "    import random\n",
    "    MOB = input('Enter 10 digit Mobile Number: ')\n",
    "    if MOB not in phonenum:\n",
    "        if len(MOB) != 10:\n",
    "            print('Invalid Input')\n",
    "        else:\n",
    "            code_generation = random.randint(111111,999999)\n",
    "            code='G-'+ str(code_generation) + 'is your One Time Google Verification Code.'\n",
    "            print('Enter the OTP sent to your number ending with',MOB[-3:])\n",
    "            print(code)\n",
    "            otp_enter = input('Enter OTP: ')\n",
    "            if otp_enter == str('G-'+str(code_generation)):\n",
    "                print('Please accept the Terms and Conditions to create your account.')\n",
    "                answer=input('Accept the T&C Enter 1: ')\n",
    "                if answer != '1':\n",
    "                    print('Invalid Response ')\n",
    "                else:\n",
    "                    phonenum.append(MOB)\n",
    "                    print('Account Created Succesfully.')\n",
    "            else:\n",
    "                print('Invalid OTP.')\n",
    "    else:\n",
    "        print('Number already exists.')"
   ]
  },
  {
   "cell_type": "code",
   "execution_count": 33,
   "metadata": {},
   "outputs": [
    {
     "name": "stdout",
     "output_type": "stream",
     "text": [
      "Enter 10 digit Mobile Number: 8807060273\n",
      "Enter the OTP sent to your number ending with 273\n",
      "G-439778is your One Time Google Verification Code.\n",
      "Enter OTP: G-439778\n",
      "Please accept the Terms and Conditions to create your account.\n",
      "Accept the T&C Enter 1: 1\n",
      "Account Created Succesfully.\n"
     ]
    }
   ],
   "source": [
    "mobile()"
   ]
  },
  {
   "cell_type": "code",
   "execution_count": 3,
   "metadata": {},
   "outputs": [],
   "source": [
    "Gender = []\n",
    "def gender():\n",
    "    gen_int = input('Enter Gender ').capitalize()\n",
    "    if gen_int =='Male' or 'Female':\n",
    "        Gender.append(gen_int)\n",
    "    else:\n",
    "        print('Invalid Input.')"
   ]
  },
  {
   "cell_type": "code",
   "execution_count": 16,
   "metadata": {},
   "outputs": [
    {
     "name": "stdout",
     "output_type": "stream",
     "text": [
      "Enter First name: Rama\n",
      "Enter last name: chandran\n"
     ]
    }
   ],
   "source": [
    "flname()"
   ]
  },
  {
   "cell_type": "code",
   "execution_count": 4,
   "metadata": {},
   "outputs": [
    {
     "name": "stdout",
     "output_type": "stream",
     "text": [
      "Enter Gender Male\n"
     ]
    }
   ],
   "source": [
    "gender()"
   ]
  },
  {
   "cell_type": "code",
   "execution_count": 34,
   "metadata": {},
   "outputs": [],
   "source": [
    "data2={'username':user,'password':pas,'phone_no':phonenum,'gender':Gender,'fname':firstname,'lname':lastname,'dob':Date}"
   ]
  },
  {
   "cell_type": "code",
   "execution_count": 35,
   "metadata": {},
   "outputs": [
    {
     "data": {
      "text/plain": [
       "{'username': ['raghuveera'],\n",
       " 'password': ['rama23456gh'],\n",
       " 'phone_no': ['8807060273'],\n",
       " 'gender': ['Male'],\n",
       " 'fname': ['Rama'],\n",
       " 'lname': ['chandran'],\n",
       " 'dob': ['21-Feb-2005']}"
      ]
     },
     "execution_count": 35,
     "metadata": {},
     "output_type": "execute_result"
    }
   ],
   "source": [
    "data2"
   ]
  },
  {
   "cell_type": "code",
   "execution_count": 36,
   "metadata": {},
   "outputs": [],
   "source": [
    "import pandas as pd\n",
    "df2=pd.DataFrame(data2)"
   ]
  },
  {
   "cell_type": "code",
   "execution_count": 37,
   "metadata": {},
   "outputs": [
    {
     "data": {
      "text/html": [
       "<div>\n",
       "<style scoped>\n",
       "    .dataframe tbody tr th:only-of-type {\n",
       "        vertical-align: middle;\n",
       "    }\n",
       "\n",
       "    .dataframe tbody tr th {\n",
       "        vertical-align: top;\n",
       "    }\n",
       "\n",
       "    .dataframe thead th {\n",
       "        text-align: right;\n",
       "    }\n",
       "</style>\n",
       "<table border=\"1\" class=\"dataframe\">\n",
       "  <thead>\n",
       "    <tr style=\"text-align: right;\">\n",
       "      <th></th>\n",
       "      <th>username</th>\n",
       "      <th>password</th>\n",
       "      <th>phone_no</th>\n",
       "      <th>gender</th>\n",
       "      <th>fname</th>\n",
       "      <th>lname</th>\n",
       "      <th>dob</th>\n",
       "    </tr>\n",
       "  </thead>\n",
       "  <tbody>\n",
       "    <tr>\n",
       "      <th>0</th>\n",
       "      <td>raghuveera</td>\n",
       "      <td>rama23456gh</td>\n",
       "      <td>8807060273</td>\n",
       "      <td>Male</td>\n",
       "      <td>Rama</td>\n",
       "      <td>chandran</td>\n",
       "      <td>21-Feb-2005</td>\n",
       "    </tr>\n",
       "  </tbody>\n",
       "</table>\n",
       "</div>"
      ],
      "text/plain": [
       "     username     password    phone_no gender fname     lname          dob\n",
       "0  raghuveera  rama23456gh  8807060273   Male  Rama  chandran  21-Feb-2005"
      ]
     },
     "execution_count": 37,
     "metadata": {},
     "output_type": "execute_result"
    }
   ],
   "source": [
    "df2"
   ]
  },
  {
   "cell_type": "code",
   "execution_count": 44,
   "metadata": {},
   "outputs": [],
   "source": [
    "dff=pd.concat((df,df2))"
   ]
  },
  {
   "cell_type": "code",
   "execution_count": 45,
   "metadata": {},
   "outputs": [
    {
     "data": {
      "text/html": [
       "<div>\n",
       "<style scoped>\n",
       "    .dataframe tbody tr th:only-of-type {\n",
       "        vertical-align: middle;\n",
       "    }\n",
       "\n",
       "    .dataframe tbody tr th {\n",
       "        vertical-align: top;\n",
       "    }\n",
       "\n",
       "    .dataframe thead th {\n",
       "        text-align: right;\n",
       "    }\n",
       "</style>\n",
       "<table border=\"1\" class=\"dataframe\">\n",
       "  <thead>\n",
       "    <tr style=\"text-align: right;\">\n",
       "      <th></th>\n",
       "      <th>username</th>\n",
       "      <th>password</th>\n",
       "      <th>phone_no</th>\n",
       "      <th>gender</th>\n",
       "      <th>fname</th>\n",
       "      <th>lname</th>\n",
       "      <th>dob</th>\n",
       "    </tr>\n",
       "  </thead>\n",
       "  <tbody>\n",
       "    <tr>\n",
       "      <th>0</th>\n",
       "      <td>godisgreat</td>\n",
       "      <td>Gig12rama</td>\n",
       "      <td>1234567890</td>\n",
       "      <td>male</td>\n",
       "      <td>Ravi</td>\n",
       "      <td>chandran</td>\n",
       "      <td>12-05-1984</td>\n",
       "    </tr>\n",
       "    <tr>\n",
       "      <th>1</th>\n",
       "      <td>anusha</td>\n",
       "      <td>Aanusharavi56</td>\n",
       "      <td>2345678901</td>\n",
       "      <td>female</td>\n",
       "      <td>Anusha</td>\n",
       "      <td>ravi</td>\n",
       "      <td>25-06-2018</td>\n",
       "    </tr>\n",
       "    <tr>\n",
       "      <th>2</th>\n",
       "      <td>geetharavi.234</td>\n",
       "      <td>Gnirmala74</td>\n",
       "      <td>3456789012</td>\n",
       "      <td>female</td>\n",
       "      <td>Geetha</td>\n",
       "      <td>kuppusamy</td>\n",
       "      <td>15-08-1947</td>\n",
       "    </tr>\n",
       "    <tr>\n",
       "      <th>0</th>\n",
       "      <td>raghuveera</td>\n",
       "      <td>rama23456gh</td>\n",
       "      <td>8807060273</td>\n",
       "      <td>Male</td>\n",
       "      <td>Rama</td>\n",
       "      <td>chandran</td>\n",
       "      <td>21-Feb-2005</td>\n",
       "    </tr>\n",
       "  </tbody>\n",
       "</table>\n",
       "</div>"
      ],
      "text/plain": [
       "         username       password    phone_no  gender   fname      lname  \\\n",
       "0      godisgreat      Gig12rama  1234567890    male    Ravi   chandran   \n",
       "1          anusha  Aanusharavi56  2345678901  female  Anusha       ravi   \n",
       "2  geetharavi.234     Gnirmala74  3456789012  female  Geetha  kuppusamy   \n",
       "0      raghuveera    rama23456gh  8807060273    Male    Rama   chandran   \n",
       "\n",
       "           dob  \n",
       "0   12-05-1984  \n",
       "1   25-06-2018  \n",
       "2   15-08-1947  \n",
       "0  21-Feb-2005  "
      ]
     },
     "execution_count": 45,
     "metadata": {},
     "output_type": "execute_result"
    }
   ],
   "source": [
    "dff"
   ]
  },
  {
   "cell_type": "code",
   "execution_count": 46,
   "metadata": {},
   "outputs": [],
   "source": [
    "final= dff.to_csv('bank_details.csv')"
   ]
  },
  {
   "cell_type": "code",
   "execution_count": 47,
   "metadata": {},
   "outputs": [],
   "source": [
    "login_success = [] \n",
    "login_failure = []\n",
    "def login():\n",
    "    bank = pd.read_csv('bank_details.csv',index_col='username')\n",
    "    EMAIL = input('Enter email: ').split(\"@\")\n",
    "    em = EMAIL[0]\n",
    "    if em in bank.index.to_list():\n",
    "        PASS = input('Enter Password: ')\n",
    "        if bank['password'][em] == PASS:\n",
    "            import time\n",
    "            t = time.localtime()\n",
    "            currenttime = time.strftime(' %H : %M: %S' , t)\n",
    "            print('Login Successful.')\n",
    "            login_success.append(str(em) + ' at' + str(currenttime))\n",
    "        else:\n",
    "            import time\n",
    "            t=time.localtime()\n",
    "            currenttime = time.strftime(' %H : %M: %S' , t)\n",
    "            print('Login Failed.')\n",
    "            login_failure.append(str(em) + ' at' + str(currenttime))\n",
    "    else:\n",
    "        print('EMAIL doesnot exist.')"
   ]
  },
  {
   "cell_type": "code",
   "execution_count": 48,
   "metadata": {},
   "outputs": [
    {
     "name": "stdout",
     "output_type": "stream",
     "text": [
      "Enter email: geetharavi.234@gmail.com\n",
      "Enter Password: Gnirmala74\n",
      "Login Successful.\n"
     ]
    }
   ],
   "source": [
    "login()"
   ]
  },
  {
   "cell_type": "code",
   "execution_count": 49,
   "metadata": {},
   "outputs": [
    {
     "data": {
      "text/plain": [
       "[]"
      ]
     },
     "execution_count": 49,
     "metadata": {},
     "output_type": "execute_result"
    }
   ],
   "source": [
    "login_failure"
   ]
  },
  {
   "cell_type": "code",
   "execution_count": 50,
   "metadata": {},
   "outputs": [
    {
     "data": {
      "text/plain": [
       "['geetharavi.234 at 19 : 47: 25']"
      ]
     },
     "execution_count": 50,
     "metadata": {},
     "output_type": "execute_result"
    }
   ],
   "source": [
    "login_success"
   ]
  },
  {
   "cell_type": "code",
   "execution_count": 51,
   "metadata": {},
   "outputs": [],
   "source": [
    "bank = pd.read_csv('bank_details.csv',index_col='username')"
   ]
  },
  {
   "cell_type": "code",
   "execution_count": 52,
   "metadata": {
    "scrolled": true
   },
   "outputs": [
    {
     "data": {
      "text/html": [
       "<div>\n",
       "<style scoped>\n",
       "    .dataframe tbody tr th:only-of-type {\n",
       "        vertical-align: middle;\n",
       "    }\n",
       "\n",
       "    .dataframe tbody tr th {\n",
       "        vertical-align: top;\n",
       "    }\n",
       "\n",
       "    .dataframe thead th {\n",
       "        text-align: right;\n",
       "    }\n",
       "</style>\n",
       "<table border=\"1\" class=\"dataframe\">\n",
       "  <thead>\n",
       "    <tr style=\"text-align: right;\">\n",
       "      <th></th>\n",
       "      <th>Unnamed: 0</th>\n",
       "      <th>password</th>\n",
       "      <th>phone_no</th>\n",
       "      <th>gender</th>\n",
       "      <th>fname</th>\n",
       "      <th>lname</th>\n",
       "      <th>dob</th>\n",
       "    </tr>\n",
       "    <tr>\n",
       "      <th>username</th>\n",
       "      <th></th>\n",
       "      <th></th>\n",
       "      <th></th>\n",
       "      <th></th>\n",
       "      <th></th>\n",
       "      <th></th>\n",
       "      <th></th>\n",
       "    </tr>\n",
       "  </thead>\n",
       "  <tbody>\n",
       "    <tr>\n",
       "      <th>godisgreat</th>\n",
       "      <td>0</td>\n",
       "      <td>Gig12rama</td>\n",
       "      <td>1234567890</td>\n",
       "      <td>male</td>\n",
       "      <td>Ravi</td>\n",
       "      <td>chandran</td>\n",
       "      <td>12-05-1984</td>\n",
       "    </tr>\n",
       "    <tr>\n",
       "      <th>anusha</th>\n",
       "      <td>1</td>\n",
       "      <td>Aanusharavi56</td>\n",
       "      <td>2345678901</td>\n",
       "      <td>female</td>\n",
       "      <td>Anusha</td>\n",
       "      <td>ravi</td>\n",
       "      <td>25-06-2018</td>\n",
       "    </tr>\n",
       "    <tr>\n",
       "      <th>geetharavi.234</th>\n",
       "      <td>2</td>\n",
       "      <td>Gnirmala74</td>\n",
       "      <td>3456789012</td>\n",
       "      <td>female</td>\n",
       "      <td>Geetha</td>\n",
       "      <td>kuppusamy</td>\n",
       "      <td>15-08-1947</td>\n",
       "    </tr>\n",
       "    <tr>\n",
       "      <th>raghuveera</th>\n",
       "      <td>0</td>\n",
       "      <td>rama23456gh</td>\n",
       "      <td>8807060273</td>\n",
       "      <td>Male</td>\n",
       "      <td>Rama</td>\n",
       "      <td>chandran</td>\n",
       "      <td>21-Feb-2005</td>\n",
       "    </tr>\n",
       "  </tbody>\n",
       "</table>\n",
       "</div>"
      ],
      "text/plain": [
       "                Unnamed: 0       password    phone_no  gender   fname  \\\n",
       "username                                                                \n",
       "godisgreat               0      Gig12rama  1234567890    male    Ravi   \n",
       "anusha                   1  Aanusharavi56  2345678901  female  Anusha   \n",
       "geetharavi.234           2     Gnirmala74  3456789012  female  Geetha   \n",
       "raghuveera               0    rama23456gh  8807060273    Male    Rama   \n",
       "\n",
       "                    lname          dob  \n",
       "username                                \n",
       "godisgreat       chandran   12-05-1984  \n",
       "anusha               ravi   25-06-2018  \n",
       "geetharavi.234  kuppusamy   15-08-1947  \n",
       "raghuveera       chandran  21-Feb-2005  "
      ]
     },
     "execution_count": 52,
     "metadata": {},
     "output_type": "execute_result"
    }
   ],
   "source": [
    "bank"
   ]
  },
  {
   "cell_type": "code",
   "execution_count": 53,
   "metadata": {},
   "outputs": [
    {
     "data": {
      "text/plain": [
       "Index(['Unnamed: 0', 'password', 'phone_no', 'gender', 'fname', 'lname',\n",
       "       'dob'],\n",
       "      dtype='object')"
      ]
     },
     "execution_count": 53,
     "metadata": {},
     "output_type": "execute_result"
    }
   ],
   "source": [
    "bank.columns"
   ]
  },
  {
   "cell_type": "code",
   "execution_count": 54,
   "metadata": {},
   "outputs": [
    {
     "data": {
      "text/plain": [
       "['godisgreat', 'anusha', 'geetharavi.234', 'raghuveera']"
      ]
     },
     "execution_count": 54,
     "metadata": {},
     "output_type": "execute_result"
    }
   ],
   "source": [
    "list(bank.index)"
   ]
  },
  {
   "cell_type": "code",
   "execution_count": 55,
   "metadata": {},
   "outputs": [
    {
     "data": {
      "text/plain": [
       "'25-06-2018'"
      ]
     },
     "execution_count": 55,
     "metadata": {},
     "output_type": "execute_result"
    }
   ],
   "source": [
    "bank['dob']['anusha']"
   ]
  }
 ],
 "metadata": {
  "kernelspec": {
   "display_name": "Python 3",
   "language": "python",
   "name": "python3"
  },
  "language_info": {
   "codemirror_mode": {
    "name": "ipython",
    "version": 3
   },
   "file_extension": ".py",
   "mimetype": "text/x-python",
   "name": "python",
   "nbconvert_exporter": "python",
   "pygments_lexer": "ipython3",
   "version": "3.7.6"
  }
 },
 "nbformat": 4,
 "nbformat_minor": 4
}
