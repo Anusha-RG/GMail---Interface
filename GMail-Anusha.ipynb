{
 "cells": [
  {
   "cell_type": "code",
   "execution_count": 46,
   "metadata": {},
   "outputs": [],
   "source": [
    "import numpy as np\n",
    "import math as m\n",
    "from numpy import random\n",
    "import string"
   ]
  },
  {
   "cell_type": "code",
   "execution_count": 80,
   "metadata": {},
   "outputs": [],
   "source": [
    "user_nameslist  = ['Anusha','Ravichandran','Prameela','Suseela','Kupusamy','Narasimhalunaidu','Monisha']\n",
    "usernamesset    = ['AnushaR','RaviNnaidu','Pram1234','susSuseela','seshanaidu','Narasimha','Vijayakumar']\n",
    "passwordslist   = ['aNu5hfg47','Ravi15055','Pram12345','Suse09223','Kupu4376e','naidu7894jh','Moni@22800']\n",
    "genderslist     = ['F','M','F','F','M','M','F']\n",
    "DOBlist         = ['21-05-2006','12-11-1989','31-01-1957','16-06-1966','30-04-1947','03-03-2003','02-08-1999']\n",
    "phonenumbersset = ['+918596435781','+91954862384','+919688847023','+917988035481','+917993100451','+917551325690','+919385820671']"
   ]
  },
  {
   "cell_type": "code",
   "execution_count": 3,
   "metadata": {},
   "outputs": [
    {
     "name": "stdout",
     "output_type": "stream",
     "text": [
      "Welcome!\n",
      "Setting up email via GOOGLE\n",
      "\n",
      "Enter your first-name: Deepa\n",
      "Enter your last-name: Narayanan\n",
      "Enter username: DeepaN39\n",
      "Enter a strong password: DEEPA40jana\n",
      "Re-enter your password for confirmation: DEEPA40jana\n",
      "Enter your gender(M/F/O): F\n",
      "Enter your birth date(00): 10\n",
      "Enter your birth month(00): 09\n",
      "Enter your birth year(0000): 1988\n",
      "Enter country code+91\n",
      "Enter contact number: 6379571756\n",
      "Your google one time password is: G-44146\n",
      "A 5-digit OTP has been sent to your registered\n",
      "mobile number.Kindly enter it: G-44146\n",
      "Congratulations,on setting your Gmail account!\n",
      "Keep Mailing!\n"
     ]
    }
   ],
   "source": [
    "print('Welcome!\\nSetting up email via GOOGLE\\n')\n",
    "fname=input('Enter your first-name: ')\n",
    "lname=input('Enter your last-name: ')\n",
    "user_name=fname+' '+lname\n",
    "username=input('Enter username: ')\n",
    "if username.isalnum():\n",
    "    if (len(username) < 6) or (len(username) > 30) :\n",
    "        print('Invalid.Out of range!\\nLength: (6,30)')\n",
    "    elif username in usernamesset:\n",
    "        print('User-name already exists!')\n",
    "    else:\n",
    "        pwd=input('Enter a strong password: ')\n",
    "        if len(pwd)<8:\n",
    "            print('Weak password.Characters less than 8!')\n",
    "        else:\n",
    "            cpwd=input('Re-enter your password for confirmation: ')\n",
    "            if pwd != cpwd:\n",
    "                   print('Check again!')\n",
    "            else:\n",
    "                gender=input('Enter your gender(M/F/O): ')\n",
    "                date=int(input('Enter your birth date(00): '))\n",
    "                month=int(input('Enter your birth month(00): '))\n",
    "                year=int(input('Enter your birth year(0000): '))\n",
    "                dob=str(date)+'-'+str(month)+'-'+str(year)\n",
    "                cd=input('Enter country code')\n",
    "                phone=int(input('Enter contact number: '))\n",
    "                if len(str(phone))!=10:\n",
    "                        print('Length exceeded maximum!')\n",
    "                elif str(phone).isnumeric()==False:\n",
    "                        print('Invalid number!')\n",
    "                else:\n",
    "                    phnum=cd+str(phone)\n",
    "                    if phnum in phonenumbersset:\n",
    "                        print('You are impersonating!')\n",
    "                    else:\n",
    "                        user_nameslist.append(user_name)\n",
    "                        usernamesset.append(username)  \n",
    "                        passwordslist.append(pwd)\n",
    "                        genderslist.append(gender)\n",
    "                        DOBlist.append(dob)\n",
    "                        phonenumbersset.append(phnum) \n",
    "                        otp=random.randint(10000,99999)\n",
    "                        otpf='G-'+str(otp)\n",
    "                        print('Your google one time password is: '+otpf)\n",
    "                        OTP=input('A 5-digit OTP has been sent to your registered\\nmobile number.Kindly enter it: ')\n",
    "                        if OTP ==otpf: \n",
    "                            print('Please accept the Terms and Conditions to create your account.')\n",
    "                            answer=input('Accept the T&C Enter 1: ')\n",
    "                            if answer == '1':\n",
    "                                   print('Congratulations,on setting your Gmail account!\\nKeep Mailing!')\n",
    "                            else:\n",
    "                                 print('Invalid Response ')         \n",
    "                        else:\n",
    "                            print('Invalid!.A new otp has been sent.')\n",
    "                            otp=random.randint(10000,99999)\n",
    "                            otpf='G-'+str(otp)\n",
    "                            print('Your google one time password is: '+otpf)\n",
    "                            OTP=int(input('Kindly enter the OTP: '))\n",
    "                            print('Please accept the Terms and Conditions to create your account.')\n",
    "                            answer=input('Accept the T&C Enter 1: ')\n",
    "                            if answer == '1':\n",
    "                                   print('Congratulations,on setting your Gmail account!\\nKeep Mailing!')\n",
    "                            else:\n",
    "                                 print('Invalid Response ') \n",
    "else:\n",
    "     print('Invalid Username!')        "
   ]
  },
  {
   "cell_type": "code",
   "execution_count": 81,
   "metadata": {},
   "outputs": [],
   "source": [
    "data = {'Account_holder':user_nameslist,\n",
    "        'User_name':usernamesset,\n",
    "        'Password':passwordslist,\n",
    "        'Gender':genderslist,\n",
    "        'DOB':DOBlist,\n",
    "        'Contact_number':phonenumbersset}"
   ]
  },
  {
   "cell_type": "code",
   "execution_count": 82,
   "metadata": {},
   "outputs": [],
   "source": [
    "import pandas as pd\n",
    "df=pd.DataFrame(data)"
   ]
  },
  {
   "cell_type": "code",
   "execution_count": 83,
   "metadata": {},
   "outputs": [
    {
     "data": {
      "text/html": [
       "<div>\n",
       "<style scoped>\n",
       "    .dataframe tbody tr th:only-of-type {\n",
       "        vertical-align: middle;\n",
       "    }\n",
       "\n",
       "    .dataframe tbody tr th {\n",
       "        vertical-align: top;\n",
       "    }\n",
       "\n",
       "    .dataframe thead th {\n",
       "        text-align: right;\n",
       "    }\n",
       "</style>\n",
       "<table border=\"1\" class=\"dataframe\">\n",
       "  <thead>\n",
       "    <tr style=\"text-align: right;\">\n",
       "      <th></th>\n",
       "      <th>Account_holder</th>\n",
       "      <th>User_name</th>\n",
       "      <th>Password</th>\n",
       "      <th>Gender</th>\n",
       "      <th>DOB</th>\n",
       "      <th>Contact_number</th>\n",
       "    </tr>\n",
       "  </thead>\n",
       "  <tbody>\n",
       "    <tr>\n",
       "      <th>0</th>\n",
       "      <td>Anusha</td>\n",
       "      <td>AnushaR</td>\n",
       "      <td>aNu5hfg47</td>\n",
       "      <td>F</td>\n",
       "      <td>21-05-2006</td>\n",
       "      <td>+918596435781</td>\n",
       "    </tr>\n",
       "    <tr>\n",
       "      <th>1</th>\n",
       "      <td>Ravichandran</td>\n",
       "      <td>RaviNnaidu</td>\n",
       "      <td>Ravi15055</td>\n",
       "      <td>M</td>\n",
       "      <td>12-11-1989</td>\n",
       "      <td>+91954862384</td>\n",
       "    </tr>\n",
       "    <tr>\n",
       "      <th>2</th>\n",
       "      <td>Prameela</td>\n",
       "      <td>Pram1234</td>\n",
       "      <td>Pram12345</td>\n",
       "      <td>F</td>\n",
       "      <td>31-01-1957</td>\n",
       "      <td>+919688847023</td>\n",
       "    </tr>\n",
       "    <tr>\n",
       "      <th>3</th>\n",
       "      <td>Suseela</td>\n",
       "      <td>susSuseela</td>\n",
       "      <td>Suse09223</td>\n",
       "      <td>F</td>\n",
       "      <td>16-06-1966</td>\n",
       "      <td>+917988035481</td>\n",
       "    </tr>\n",
       "    <tr>\n",
       "      <th>4</th>\n",
       "      <td>Kupusamy</td>\n",
       "      <td>seshanaidu</td>\n",
       "      <td>Kupu4376e</td>\n",
       "      <td>M</td>\n",
       "      <td>30-04-1947</td>\n",
       "      <td>+917993100451</td>\n",
       "    </tr>\n",
       "    <tr>\n",
       "      <th>5</th>\n",
       "      <td>Narasimhalunaidu</td>\n",
       "      <td>Narasimha</td>\n",
       "      <td>naidu7894jh</td>\n",
       "      <td>M</td>\n",
       "      <td>03-03-2003</td>\n",
       "      <td>+917551325690</td>\n",
       "    </tr>\n",
       "    <tr>\n",
       "      <th>6</th>\n",
       "      <td>Monisha</td>\n",
       "      <td>Vijayakumar</td>\n",
       "      <td>Moni@22800</td>\n",
       "      <td>F</td>\n",
       "      <td>02-08-1999</td>\n",
       "      <td>+919385820671</td>\n",
       "    </tr>\n",
       "  </tbody>\n",
       "</table>\n",
       "</div>"
      ],
      "text/plain": [
       "     Account_holder    User_name     Password Gender         DOB  \\\n",
       "0            Anusha      AnushaR    aNu5hfg47      F  21-05-2006   \n",
       "1      Ravichandran   RaviNnaidu    Ravi15055      M  12-11-1989   \n",
       "2          Prameela     Pram1234    Pram12345      F  31-01-1957   \n",
       "3           Suseela   susSuseela    Suse09223      F  16-06-1966   \n",
       "4          Kupusamy   seshanaidu    Kupu4376e      M  30-04-1947   \n",
       "5  Narasimhalunaidu    Narasimha  naidu7894jh      M  03-03-2003   \n",
       "6           Monisha  Vijayakumar   Moni@22800      F  02-08-1999   \n",
       "\n",
       "  Contact_number  \n",
       "0  +918596435781  \n",
       "1   +91954862384  \n",
       "2  +919688847023  \n",
       "3  +917988035481  \n",
       "4  +917993100451  \n",
       "5  +917551325690  \n",
       "6  +919385820671  "
      ]
     },
     "execution_count": 83,
     "metadata": {},
     "output_type": "execute_result"
    }
   ],
   "source": [
    "df"
   ]
  },
  {
   "cell_type": "code",
   "execution_count": 51,
   "metadata": {},
   "outputs": [
    {
     "data": {
      "text/plain": [
       "<matplotlib.axes._subplots.AxesSubplot at 0x227b2033d88>"
      ]
     },
     "execution_count": 51,
     "metadata": {},
     "output_type": "execute_result"
    },
    {
     "data": {
      "image/png": "[encoded data removed]",
      "text/plain": [
       "<Figure size 432x288 with 1 Axes>"
      ]
     },
     "metadata": {
      "needs_background": "light"
     },
     "output_type": "display_data"
    }
   ],
   "source": [
    "import seaborn as sns\n",
    "sns.countplot(x='Gender',data=df)"
   ]
  },
  {
   "cell_type": "code",
   "execution_count": 84,
   "metadata": {},
   "outputs": [],
   "source": [
    "final= df.to_csv('bank_data.csv')"
   ]
  },
  {
   "cell_type": "code",
   "execution_count": 76,
   "metadata": {},
   "outputs": [],
   "source": [
    "login_success = [] \n",
    "login_failure = []\n",
    "def login():\n",
    "    bank = pd.read_csv('bank_data.csv',index_col='User_name')\n",
    "    EMAIL = input('Enter email: ').split(\"@\")\n",
    "    em = EMAIL[0]\n",
    "    if em in bank.index.to_list():\n",
    "        PASS = input('Enter Password: ')\n",
    "        if bank['Password'][em] == PASS:\n",
    "            import time\n",
    "            t = time.localtime()\n",
    "            currenttime = time.strftime(' %H : %M: %S' , t)\n",
    "            print('Login Successful.')\n",
    "            login_success.append(str(em) + ' at' + str(currenttime))\n",
    "        else:\n",
    "            import time\n",
    "            t=time.localtime()\n",
    "            currenttime = time.strftime(' %H : %M: %S' , t)\n",
    "            print('Login Failed.')\n",
    "            login_failure.append(str(em) + ' at' + str(currenttime))\n",
    "    else:\n",
    "        print('EMAIL doesnot exist.')"
   ]
  },
  {
   "cell_type": "code",
   "execution_count": 78,
   "metadata": {},
   "outputs": [
    {
     "name": "stdout",
     "output_type": "stream",
     "text": [
      "Enter email: Pram1234@gmail.com\n",
      "Enter Password: gfdkad567\n",
      "Login Failed.\n"
     ]
    }
   ],
   "source": [
    "login()"
   ]
  },
  {
   "cell_type": "code",
   "execution_count": 63,
   "metadata": {},
   "outputs": [
    {
     "name": "stdout",
     "output_type": "stream",
     "text": [
      "Enter email: RaviNnaidu@gmail.com\n",
      "Enter Password: Ravi15055\n",
      "Login Successful.\n"
     ]
    }
   ],
   "source": [
    "login()"
   ]
  },
  {
   "cell_type": "code",
   "execution_count": 64,
   "metadata": {},
   "outputs": [
    {
     "data": {
      "text/plain": [
       "['RaviNnaidu at 18 : 18: 57']"
      ]
     },
     "execution_count": 64,
     "metadata": {},
     "output_type": "execute_result"
    }
   ],
   "source": [
    "login_success"
   ]
  },
  {
   "cell_type": "code",
   "execution_count": 79,
   "metadata": {},
   "outputs": [
    {
     "data": {
      "text/plain": [
       "['Pram1234 at 18 : 32: 22']"
      ]
     },
     "execution_count": 79,
     "metadata": {},
     "output_type": "execute_result"
    }
   ],
   "source": [
    "login_failure"
   ]
  },
  {
   "cell_type": "code",
   "execution_count": 85,
   "metadata": {},
   "outputs": [],
   "source": [
    "bank = pd.read_csv('bank_data.csv',index_col='User_name')"
   ]
  },
  {
   "cell_type": "code",
   "execution_count": 86,
   "metadata": {},
   "outputs": [
    {
     "data": {
      "text/html": [
       "<div>\n",
       "<style scoped>\n",
       "    .dataframe tbody tr th:only-of-type {\n",
       "        vertical-align: middle;\n",
       "    }\n",
       "\n",
       "    .dataframe tbody tr th {\n",
       "        vertical-align: top;\n",
       "    }\n",
       "\n",
       "    .dataframe thead th {\n",
       "        text-align: right;\n",
       "    }\n",
       "</style>\n",
       "<table border=\"1\" class=\"dataframe\">\n",
       "  <thead>\n",
       "    <tr style=\"text-align: right;\">\n",
       "      <th></th>\n",
       "      <th>Unnamed: 0</th>\n",
       "      <th>Account_holder</th>\n",
       "      <th>Password</th>\n",
       "      <th>Gender</th>\n",
       "      <th>DOB</th>\n",
       "      <th>Contact_number</th>\n",
       "    </tr>\n",
       "    <tr>\n",
       "      <th>User_name</th>\n",
       "      <th></th>\n",
       "      <th></th>\n",
       "      <th></th>\n",
       "      <th></th>\n",
       "      <th></th>\n",
       "      <th></th>\n",
       "    </tr>\n",
       "  </thead>\n",
       "  <tbody>\n",
       "    <tr>\n",
       "      <th>AnushaR</th>\n",
       "      <td>0</td>\n",
       "      <td>Anusha</td>\n",
       "      <td>aNu5hfg47</td>\n",
       "      <td>F</td>\n",
       "      <td>21-05-2006</td>\n",
       "      <td>918596435781</td>\n",
       "    </tr>\n",
       "    <tr>\n",
       "      <th>RaviNnaidu</th>\n",
       "      <td>1</td>\n",
       "      <td>Ravichandran</td>\n",
       "      <td>Ravi15055</td>\n",
       "      <td>M</td>\n",
       "      <td>12-11-1989</td>\n",
       "      <td>91954862384</td>\n",
       "    </tr>\n",
       "    <tr>\n",
       "      <th>Pram1234</th>\n",
       "      <td>2</td>\n",
       "      <td>Prameela</td>\n",
       "      <td>Pram12345</td>\n",
       "      <td>F</td>\n",
       "      <td>31-01-1957</td>\n",
       "      <td>919688847023</td>\n",
       "    </tr>\n",
       "    <tr>\n",
       "      <th>susSuseela</th>\n",
       "      <td>3</td>\n",
       "      <td>Suseela</td>\n",
       "      <td>Suse09223</td>\n",
       "      <td>F</td>\n",
       "      <td>16-06-1966</td>\n",
       "      <td>917988035481</td>\n",
       "    </tr>\n",
       "    <tr>\n",
       "      <th>seshanaidu</th>\n",
       "      <td>4</td>\n",
       "      <td>Kupusamy</td>\n",
       "      <td>Kupu4376e</td>\n",
       "      <td>M</td>\n",
       "      <td>30-04-1947</td>\n",
       "      <td>917993100451</td>\n",
       "    </tr>\n",
       "    <tr>\n",
       "      <th>Narasimha</th>\n",
       "      <td>5</td>\n",
       "      <td>Narasimhalunaidu</td>\n",
       "      <td>naidu7894jh</td>\n",
       "      <td>M</td>\n",
       "      <td>03-03-2003</td>\n",
       "      <td>917551325690</td>\n",
       "    </tr>\n",
       "    <tr>\n",
       "      <th>Vijayakumar</th>\n",
       "      <td>6</td>\n",
       "      <td>Monisha</td>\n",
       "      <td>Moni@22800</td>\n",
       "      <td>F</td>\n",
       "      <td>02-08-1999</td>\n",
       "      <td>919385820671</td>\n",
       "    </tr>\n",
       "  </tbody>\n",
       "</table>\n",
       "</div>"
      ],
      "text/plain": [
       "             Unnamed: 0    Account_holder     Password Gender         DOB  \\\n",
       "User_name                                                                   \n",
       "AnushaR               0            Anusha    aNu5hfg47      F  21-05-2006   \n",
       "RaviNnaidu            1      Ravichandran    Ravi15055      M  12-11-1989   \n",
       "Pram1234              2          Prameela    Pram12345      F  31-01-1957   \n",
       "susSuseela            3           Suseela    Suse09223      F  16-06-1966   \n",
       "seshanaidu            4          Kupusamy    Kupu4376e      M  30-04-1947   \n",
       "Narasimha             5  Narasimhalunaidu  naidu7894jh      M  03-03-2003   \n",
       "Vijayakumar           6           Monisha   Moni@22800      F  02-08-1999   \n",
       "\n",
       "             Contact_number  \n",
       "User_name                    \n",
       "AnushaR        918596435781  \n",
       "RaviNnaidu      91954862384  \n",
       "Pram1234       919688847023  \n",
       "susSuseela     917988035481  \n",
       "seshanaidu     917993100451  \n",
       "Narasimha      917551325690  \n",
       "Vijayakumar    919385820671  "
      ]
     },
     "execution_count": 86,
     "metadata": {},
     "output_type": "execute_result"
    }
   ],
   "source": [
    "bank"
   ]
  },
  {
   "cell_type": "code",
   "execution_count": 69,
   "metadata": {},
   "outputs": [
    {
     "data": {
      "text/plain": [
       "Index(['Unnamed: 0', 'Account_holder', 'Password', 'Gender', 'DOB',\n",
       "       'Contact_number'],\n",
       "      dtype='object')"
      ]
     },
     "execution_count": 69,
     "metadata": {},
     "output_type": "execute_result"
    }
   ],
   "source": [
    "bank.columns"
   ]
  },
  {
   "cell_type": "code",
   "execution_count": 67,
   "metadata": {},
   "outputs": [
    {
     "data": {
      "text/plain": [
       "['AnushaR',\n",
       " 'RaviNnaidu',\n",
       " 'Pram1234',\n",
       " 'susSuseela',\n",
       " 'seshanaidu',\n",
       " 'Narasimha',\n",
       " 'Vijayakumar']"
      ]
     },
     "execution_count": 67,
     "metadata": {},
     "output_type": "execute_result"
    }
   ],
   "source": [
    "list(bank.index)"
   ]
  },
  {
   "cell_type": "code",
   "execution_count": 71,
   "metadata": {},
   "outputs": [
    {
     "data": {
      "text/plain": [
       "'02-08-1999'"
      ]
     },
     "execution_count": 71,
     "metadata": {},
     "output_type": "execute_result"
    }
   ],
   "source": [
    "bank['DOB']['Vijayakumar']"
   ]
  }
 ],
 "metadata": {
  "kernelspec": {
   "display_name": "Python 3",
   "language": "python",
   "name": "python3"
  },
  "language_info": {
   "codemirror_mode": {
    "name": "ipython",
    "version": 3
   },
   "file_extension": ".py",
   "mimetype": "text/x-python",
   "name": "python",
   "nbconvert_exporter": "python",
   "pygments_lexer": "ipython3",
   "version": "3.7.6"
  }
 },
 "nbformat": 4,
 "nbformat_minor": 4
}
